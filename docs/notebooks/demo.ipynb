{
 "cells": [
  {
   "cell_type": "code",
   "execution_count": null,
   "id": "3d4a8bd0-65ac-419e-9b5e-16824f483992",
   "metadata": {
    "tags": []
   },
   "outputs": [],
   "source": [
    "import matplotlib.pyplot as plt\n",
    "import numpy as np"
   ]
  },
  {
   "cell_type": "code",
   "execution_count": null,
   "id": "fe8c7761-1768-422d-a2ee-9defcaf1bad9",
   "metadata": {
    "tags": []
   },
   "outputs": [],
   "source": [
    "data = [1, 2, 3]\n",
    "\n",
    "plt.plot(data, data)"
   ]
  },
  {
   "cell_type": "code",
   "execution_count": null,
   "id": "0d8149a7-edfd-488b-8eec-ffac54570875",
   "metadata": {},
   "outputs": [],
   "source": []
  }
 ],
 "metadata": {
  "kernelspec": {
   "display_name": "Python 3 (ipykernel)",
   "language": "python",
   "name": "python3"
  },
  "language_info": {
   "codemirror_mode": {
    "name": "ipython",
    "version": 3
   },
   "file_extension": ".py",
   "mimetype": "text/x-python",
   "name": "python",
   "nbconvert_exporter": "python",
   "pygments_lexer": "ipython3",
   "version": "3.10.6"
  }
 },
 "nbformat": 4,
 "nbformat_minor": 5
}
