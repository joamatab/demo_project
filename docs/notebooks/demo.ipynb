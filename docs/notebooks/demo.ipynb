{
 "cells": [
  {
   "cell_type": "markdown",
   "id": "7b74f05a-72ea-477a-8b96-b1a6da34fa63",
   "metadata": {
    "tags": []
   },
   "source": [
    "# Demo notebook"
   ]
  },
  {
   "cell_type": "code",
   "execution_count": null,
   "id": "6d2ed8bd-f87c-4043-8ee4-d88abf4b6a41",
   "metadata": {},
   "outputs": [],
   "source": [
    "import matplotlib.pyplot as plt\n",
    "import numpy as np"
   ]
  },
  {
   "cell_type": "code",
   "execution_count": null,
   "id": "fe8c7761-1768-422d-a2ee-9defcaf1bad9",
   "metadata": {
    "tags": []
   },
   "outputs": [],
   "source": [
    "data = [1, 2, 3]\n",
    "\n",
    "plt.plot(data, data)"
   ]
  },
  {
   "cell_type": "code",
   "execution_count": null,
   "id": "0d8149a7-edfd-488b-8eec-ffac54570875",
   "metadata": {},
   "outputs": [],
   "source": []
  }
 ],
 "metadata": {
  "kernelspec": {
   "display_name": "Python 3 (ipykernel)",
   "language": "python",
   "name": "python3"
  },
  "language_info": {
   "codemirror_mode": {
    "name": "ipython",
    "version": 3
   },
   "file_extension": ".py",
   "mimetype": "text/x-python",
   "name": "python",
   "nbconvert_exporter": "python",
   "pygments_lexer": "ipython3",
   "version": "3.10.6"
  }
 },
 "nbformat": 4,
 "nbformat_minor": 5
}
